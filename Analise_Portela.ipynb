{
  "nbformat": 4,
  "nbformat_minor": 0,
  "metadata": {
    "colab": {
      "provenance": []
    },
    "kernelspec": {
      "name": "python3",
      "display_name": "Python 3"
    },
    "language_info": {
      "name": "python"
    }
  },
  "cells": [
    {
      "cell_type": "code",
      "source": [
        "!pip install flair\n",
        "import pandas as pd\n",
        "import nltk\n",
        "from nltk.corpus import stopwords\n",
        "from textblob import TextBlob\n",
        "from flair.models import TextClassifier\n",
        "from flair.data import Sentence\n",
        "\n",
        "nltk.download('stopwords')\n",
        "\n",
        "# Carrega a tabela com os sambas da Portela\n",
        "portela_csv = pd.read_csv('Portela_csv.csv')\n",
        "\n",
        "# Lista de stopwords para português\n",
        "stop_words = stopwords.words('portuguese')\n",
        "\n",
        "# Função para remover stopwords do texto\n",
        "def remove_stopwords(text):\n",
        "    words = text.split()\n",
        "    return \" \".join([word for word in words if word.lower() not in stop_words])\n",
        "\n",
        "# Função para realizar a análise de sentimento com TextBlob\n",
        "def analyze_sentiment_textblob(text):\n",
        "    # Remove stopwords do texto\n",
        "    text = remove_stopwords(text)\n",
        "    # Realiza a análise de sentimento com TextBlob\n",
        "    sentiment = TextBlob(text).sentiment.polarity\n",
        "    return sentiment\n",
        "\n",
        "# Função para realizar a análise de sentimento com Flair NLP\n",
        "def analyze_sentiment_flair(text):\n",
        "    # Cria um objeto Sentence do Flair NLP com o texto\n",
        "    sentence = Sentence(text)\n",
        "    # Realiza a análise de sentimento com Flair NLP\n",
        "    classifier.predict(sentence)\n",
        "    sentiment = sentence.labels[0].score\n",
        "    return sentiment\n",
        "\n",
        "# Carrega o modelo pré-treinado \"sentiment\" do Flair NLP\n",
        "classifier = TextClassifier.load('sentiment')\n",
        "\n",
        "# Aplica a análise de sentimento com TextBlob para cada linha da coluna \"Letra\"\n",
        "portela_csv['Sentiment_TextBlob'] = portela_csv['Letra'].apply(analyze_sentiment_textblob)\n",
        "\n",
        "# Aplica a análise de sentimento com Flair NLP para cada linha da coluna \"Letra\"\n",
        "portela_csv['Sentiment_Flair'] = portela_csv['Letra'].apply(analyze_sentiment_flair)\n"
      ],
      "metadata": {
        "id": "78jYs5RPxFiI"
      },
      "execution_count": null,
      "outputs": []
    },
    {
      "cell_type": "code",
      "source": [
        "# Exibe estatísticas descritivas da coluna de sentimentos do TextBlob\n",
        "print(portela_csv['Sentiment_TextBlob'].head(10))\n",
        "\n",
        "# Exibe estatísticas descritivas da coluna de sentimentos do Flair NLP\n",
        "print(portela_csv['Sentiment_Flair'].head(10))\n",
        "\n",
        "# O maior ano \n",
        "print(portela_csv['Sentiment_Flair'].max)\n",
        "\n",
        "portela_csv.to_csv('Processadas.csv')"
      ],
      "metadata": {
        "colab": {
          "base_uri": "https://localhost:8080/"
        },
        "id": "2n8_e6lGywbv",
        "outputId": "9e2b7934-8d25-46fe-9986-0767e3ebb4d9"
      },
      "execution_count": 24,
      "outputs": [
        {
          "output_type": "stream",
          "name": "stdout",
          "text": [
            "0    0.0\n",
            "1    0.0\n",
            "2   -0.8\n",
            "3    0.1\n",
            "4    0.0\n",
            "5    0.0\n",
            "6    0.0\n",
            "7    0.0\n",
            "8    0.0\n",
            "9    0.0\n",
            "Name: Sentiment_TextBlob, dtype: float64\n",
            "0    0.981124\n",
            "1    0.785730\n",
            "2    0.925038\n",
            "3    0.943943\n",
            "4    0.969699\n",
            "5    0.865788\n",
            "6    0.969699\n",
            "7    0.985187\n",
            "8    0.969699\n",
            "9    0.961229\n",
            "Name: Sentiment_Flair, dtype: float64\n",
            "<bound method NDFrame._add_numeric_operations.<locals>.max of 0     0.981124\n",
            "1     0.785730\n",
            "2     0.925038\n",
            "3     0.943943\n",
            "4     0.969699\n",
            "        ...   \n",
            "86    0.886797\n",
            "87    0.588750\n",
            "88    0.879476\n",
            "89    0.665278\n",
            "90    0.919322\n",
            "Name: Sentiment_Flair, Length: 91, dtype: float64>\n"
          ]
        }
      ]
    },
    {
      "cell_type": "code",
      "source": [
        "import matplotlib.pyplot as plt\n",
        "\n",
        "# Cria um histograma dos resultados de sentimento com TextBlob\n",
        "plt.hist(portela_csv['Sentiment_Flair'])\n",
        "plt.title('Distribuição dos resultados de sentimento com Flair')\n",
        "plt.xlabel('Sentimento')\n",
        "plt.ylabel('Número de linhas')\n",
        "plt.show()"
      ],
      "metadata": {
        "colab": {
          "base_uri": "https://localhost:8080/",
          "height": 295
        },
        "id": "T6j0uoHRzA4L",
        "outputId": "0fdad447-8ba5-4bf8-a01b-8da0599fe79d"
      },
      "execution_count": 9,
      "outputs": [
        {
          "output_type": "display_data",
          "data": {
            "text/plain": [
              "<Figure size 432x288 with 1 Axes>"
            ],
            "image/png": "[encoded data removed]"
          },
          "metadata": {
            "needs_background": "light"
          }
        }
      ]
    },
    {
      "cell_type": "code",
      "source": [
        "# Realiza a análise de sentimento com Flair para cada linha da coluna \"Letra\"\n",
        "sentiments = []\n",
        "for letra in portela_csv['Letra']:\n",
        "    sentence = Sentence(letra)\n",
        "    classifier.predict(sentence)\n",
        "    sentiment = sentence.labels[0]\n",
        "    sentiments.append(sentiment)\n",
        "\n",
        "# Adiciona a coluna de sentimento ao DataFrame\n",
        "portela_csv['Sentiment_Flair'] = sentiments\n",
        "\n",
        "# Cria um gráfico de barras relacionando o sentimento com o ano\n",
        "portela_csv.groupby(['Ano', 'Sentiment_Flair'])"
      ],
      "metadata": {
        "id": "kjYuta2_zVUo"
      },
      "execution_count": null,
      "outputs": []
    },
    {
      "cell_type": "code",
      "source": [
        "# Importa a classe Sentiment para análise de sentimento com Flair\n",
        "from flair.models import TextClassifier\n",
        "from flair.data import Sentence\n",
        "\n",
        "# Inicializa o classificador de sentimento do Flair\n",
        "classifier = TextClassifier.load('en-sentiment')\n",
        "\n",
        "# Realiza a análise de sentimento com Flair para cada linha da coluna \"Letra\"\n",
        "sentiments = []\n",
        "for letra in portela_csv['Letra']:\n",
        "    sentence = Sentence(letra)\n",
        "    classifier.predict(sentence)\n",
        "    sentiment = sentence.labels[0].score\n",
        "    sentiments.append(sentiment)\n",
        "\n",
        "# Adiciona a coluna de sentimento ao DataFrame\n",
        "portela_csv['Sentiment_Flair'] = sentiments\n",
        "\n",
        "# Define a função para extrair a década do ano\n",
        "def extract_decade(year):\n",
        "    return str(year)[:3] + '0'\n",
        "\n",
        "# Adiciona a coluna de década ao DataFrame\n",
        "portela_csv['Decada'] = portela_csv['Ano'].apply(extract_decade)\n",
        "\n",
        "# Agrupa as linhas por década e calcula a média de sentimento para cada grupo\n",
        "means = portela_csv.groupby('Decada')['Sentiment_Flair'].mean()\n",
        "\n",
        "# Exibe a maior média e a década correspondente\n",
        "print('Maior média de sentimento:', means.max())\n",
        "print('Década correspondente:', means.idxmax())\n",
        "\n",
        "# Exibe a menor média e a década correspondente\n",
        "print('Menor média de sentimento:', means.min())\n",
        "print('Década correspondente:', means.idxmin())\n",
        "\n",
        "# Exibe as médias por década\n",
        "print('Médias por década:')\n",
        "print(means)\n"
      ],
      "metadata": {
        "colab": {
          "base_uri": "https://localhost:8080/"
        },
        "id": "lrKQsNdD081G",
        "outputId": "197c077f-ef6c-4619-bd0e-89ce635188ad"
      },
      "execution_count": 26,
      "outputs": [
        {
          "output_type": "stream",
          "name": "stdout",
          "text": [
            "2023-02-17 15:08:06,478 loading file /root/.flair/models/sentiment-en-mix-distillbert_4.pt\n",
            "Maior média de sentimento: 0.965879601240158\n",
            "Década correspondente: 1960\n",
            "Menor média de sentimento: 0.77853342294693\n",
            "Década correspondente: 1980\n",
            "Médias por década:\n",
            "Decada\n",
            "1930    0.928276\n",
            "1940    0.963546\n",
            "1950    0.952141\n",
            "1960    0.965880\n",
            "1970    0.936619\n",
            "1980    0.778533\n",
            "1990    0.930573\n",
            "2000    0.935761\n",
            "2010    0.822215\n",
            "2020    0.821359\n",
            "Name: Sentiment_Flair, dtype: float64\n"
          ]
        }
      ]
    },
    {
      "cell_type": "code",
      "source": [
        "portela_csv.to_csv = ('Decadas.csv')"
      ],
      "metadata": {
        "id": "W1xu7Sm76unY"
      },
      "execution_count": 25,
      "outputs": []
    },
    {
      "cell_type": "code",
      "source": [
        "# Define a função para plotar as barras com as variações de sentimento\n",
        "def plot_bars(means):\n",
        "    # Define a largura e o espaço entre as barras\n",
        "    width = 0.8\n",
        "    spacing = 0.05\n",
        "    \n",
        "    # Define a posição das barras e as variações em relação à média de cada década\n",
        "    x = [i for i in range(len(means))]\n",
        "    y = [mean - means.mean() for mean in means]\n",
        "    \n",
        "    # Plota as barras\n",
        "    plt.bar(x, y, width=width, color='blue', edgecolor='black')\n",
        "    \n",
        "    # Plota a linha da média de cada década\n",
        "    plt.axhline(y=0, color='black', linestyle='--')\n",
        "    \n",
        "    # Define as legendas e os rótulos do eixo x\n",
        "    plt.xticks(x, means.index)\n",
        "    plt.xlabel('Década')\n",
        "    \n",
        "    # Define os rótulos do eixo y\n",
        "    plt.ylabel('Variação de Sentimento')\n",
        "    \n",
        "    # Define o título do gráfico\n",
        "    plt.title('Variação de Sentimento por Década')\n",
        "\n",
        "# Chama a função para plotar as barras com as variações de sentimento\n",
        "plot_bars(means)\n",
        "\n",
        "# Exibe o gráfico\n",
        "plt.show()\n",
        "\n",
        "## Este gráfico leva em conta a média como sendo o 0 no eixo Y. As variações são relativas a ela."
      ],
      "metadata": {
        "colab": {
          "base_uri": "https://localhost:8080/",
          "height": 295
        },
        "id": "OqFpG6Db21ai",
        "outputId": "9176fb45-1808-4bcf-9982-6ae9e9393b05"
      },
      "execution_count": 15,
      "outputs": [
        {
          "output_type": "display_data",
          "data": {
            "text/plain": [
              "<Figure size 432x288 with 1 Axes>"
            ],
            "image/png": "[encoded data removed]"
          },
          "metadata": {
            "needs_background": "light"
          }
        }
      ]
    },
    {
      "cell_type": "code",
      "source": [
        "import seaborn as sns\n",
        "# Divide a coluna \"Ano\" em décadas\n",
        "portela_csv['Decada'] = pd.cut(portela_csv['Ano'], bins=range(1910, 2030, 10), right=False)\n",
        "\n",
        "# Realiza a análise de sentimento com Flair para cada linha da coluna \"Letra\"\n",
        "sentiments = []\n",
        "for letra in portela_csv['Letra']:\n",
        "    sentence = Sentence(letra)\n",
        "    classifier.predict(sentence)\n",
        "    sentiment = sentence.labels[0].score\n",
        "    sentiments.append(sentiment)\n",
        "\n",
        "# Adiciona a coluna de sentimento ao DataFrame\n",
        "portela_csv['Sentiment_Flair'] = sentiments\n",
        "\n",
        "# Plota o gráfico de caixas\n",
        "sns.boxplot(x='Decada', y='Sentiment_Flair', data=portela_csv)\n",
        "plt.title('Sentimento geral por década')\n",
        "plt.show()"
      ],
      "metadata": {
        "colab": {
          "base_uri": "https://localhost:8080/",
          "height": 295
        },
        "id": "mLa4OS7f4TH4",
        "outputId": "d7c01c4e-39f8-4fae-8920-a3c349a02df0"
      },
      "execution_count": 21,
      "outputs": [
        {
          "output_type": "display_data",
          "data": {
            "text/plain": [
              "<Figure size 432x288 with 1 Axes>"
            ],
            "image/png": "[encoded data removed]"
          },
          "metadata": {
            "needs_background": "light"
          }
        }
      ]
    }
  ]
}